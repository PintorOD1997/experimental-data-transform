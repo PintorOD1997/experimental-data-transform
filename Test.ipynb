{
 "cells": [
  {
   "cell_type": "code",
   "execution_count": 1,
   "id": "e5edacc0",
   "metadata": {},
   "outputs": [],
   "source": [
    "import randDataSet\n",
    "import pandas as pd"
   ]
  },
  {
   "cell_type": "code",
   "execution_count": 2,
   "id": "16c39bd4",
   "metadata": {},
   "outputs": [],
   "source": [
    "#randDataSet.random_data(100)"
   ]
  },
  {
   "cell_type": "code",
   "execution_count": 3,
   "id": "79233aa5",
   "metadata": {},
   "outputs": [],
   "source": [
    "#pd.read_csv(\"datos_aleatorios.csv\")"
   ]
  },
  {
   "cell_type": "code",
   "execution_count": 4,
   "id": "4639cfa7",
   "metadata": {},
   "outputs": [],
   "source": [
    "from transform import transformer\n",
    "import randDataSet\n",
    "import pandas as pd"
   ]
  },
  {
   "cell_type": "code",
   "execution_count": 6,
   "id": "b039b923",
   "metadata": {},
   "outputs": [],
   "source": [
    "randDataSet.random_data(50)\n",
    "df = transformer().from_csv('datos_aleatorios.csv')"
   ]
  },
  {
   "cell_type": "code",
   "execution_count": 7,
   "id": "868b32bd",
   "metadata": {},
   "outputs": [],
   "source": [
    "df_t_1, df_t_2 = transformer().fit_transform(df)"
   ]
  },
  {
   "cell_type": "code",
   "execution_count": 8,
   "id": "3242c31e",
   "metadata": {},
   "outputs": [
    {
     "data": {
      "text/html": [
       "<div>\n",
       "<style scoped>\n",
       "    .dataframe tbody tr th:only-of-type {\n",
       "        vertical-align: middle;\n",
       "    }\n",
       "\n",
       "    .dataframe tbody tr th {\n",
       "        vertical-align: top;\n",
       "    }\n",
       "\n",
       "    .dataframe thead th {\n",
       "        text-align: right;\n",
       "    }\n",
       "</style>\n",
       "<table border=\"1\" class=\"dataframe\">\n",
       "  <thead>\n",
       "    <tr style=\"text-align: right;\">\n",
       "      <th></th>\n",
       "      <th>Id</th>\n",
       "      <th>POINT_X</th>\n",
       "      <th>POINT_Y</th>\n",
       "    </tr>\n",
       "    <tr>\n",
       "      <th>OID</th>\n",
       "      <th></th>\n",
       "      <th></th>\n",
       "      <th></th>\n",
       "    </tr>\n",
       "  </thead>\n",
       "  <tbody>\n",
       "    <tr>\n",
       "      <th>0</th>\n",
       "      <td>0</td>\n",
       "      <td>-99.175982</td>\n",
       "      <td>19.403464</td>\n",
       "    </tr>\n",
       "    <tr>\n",
       "      <th>1</th>\n",
       "      <td>1</td>\n",
       "      <td>-99.175982</td>\n",
       "      <td>19.403464</td>\n",
       "    </tr>\n",
       "    <tr>\n",
       "      <th>2</th>\n",
       "      <td>2</td>\n",
       "      <td>-99.175982</td>\n",
       "      <td>19.403464</td>\n",
       "    </tr>\n",
       "    <tr>\n",
       "      <th>3</th>\n",
       "      <td>3</td>\n",
       "      <td>-99.175982</td>\n",
       "      <td>19.403464</td>\n",
       "    </tr>\n",
       "    <tr>\n",
       "      <th>4</th>\n",
       "      <td>4</td>\n",
       "      <td>-99.175982</td>\n",
       "      <td>19.403464</td>\n",
       "    </tr>\n",
       "  </tbody>\n",
       "</table>\n",
       "</div>"
      ],
      "text/plain": [
       "     Id     POINT_X    POINT_Y\n",
       "OID                           \n",
       "0     0  -99.175982  19.403464\n",
       "1     1  -99.175982  19.403464\n",
       "2     2  -99.175982  19.403464\n",
       "3     3  -99.175982  19.403464\n",
       "4     4  -99.175982  19.403464"
      ]
     },
     "execution_count": 8,
     "metadata": {},
     "output_type": "execute_result"
    }
   ],
   "source": [
    "df_t_1.head()"
   ]
  },
  {
   "cell_type": "code",
   "execution_count": null,
   "id": "69c53592",
   "metadata": {},
   "outputs": [],
   "source": [
    "#df_t_2"
   ]
  },
  {
   "cell_type": "code",
   "execution_count": null,
   "id": "787a4f6b",
   "metadata": {},
   "outputs": [],
   "source": [
    "# Probando salida como dbf\n",
    "transformer().to_dbf(df_t_1, df_t_2)"
   ]
  },
  {
   "cell_type": "code",
   "execution_count": null,
   "id": "82e92d51",
   "metadata": {},
   "outputs": [],
   "source": []
  }
 ],
 "metadata": {
  "kernelspec": {
   "display_name": "Python 3 (ipykernel)",
   "language": "python",
   "name": "python3"
  },
  "language_info": {
   "codemirror_mode": {
    "name": "ipython",
    "version": 3
   },
   "file_extension": ".py",
   "mimetype": "text/x-python",
   "name": "python",
   "nbconvert_exporter": "python",
   "pygments_lexer": "ipython3",
   "version": "3.9.5"
  }
 },
 "nbformat": 4,
 "nbformat_minor": 5
}
